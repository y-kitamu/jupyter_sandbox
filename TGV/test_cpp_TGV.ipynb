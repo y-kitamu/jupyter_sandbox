{
 "cells": [
  {
   "cell_type": "code",
   "execution_count": null,
   "metadata": {
    "autoscroll": false,
    "collapsed": false,
    "ein.hycell": false,
    "ein.tags": "worksheet-0",
    "slideshow": {
     "slide_type": "-"
    }
   },
   "outputs": [],
   "source": [
    "import math\n",
    "import numpy as np\n",
    "\n",
    "rows = 8\n",
    "cols = 8\n",
    "edge = cols // 4\n",
    "\n",
    "iter_num = 100\n",
    "\n",
    "tau = 1 / 64\n",
    "alpha0 = 0.1\n",
    "alpha1 = 0.05\n",
    "sigma = 0.125\n",
    "\n",
    "clean = np.zeros((rows, cols))\n",
    "\n",
    "for i in range(cols):\n",
    "    clean[:, i] = i / (cols - 1)\n",
    "\n",
    "for i in range(edge, cols - edge):\n",
    "    clean[edge:rows - edge, i] = 1 - ((i - edge) / (cols - edge * 2 - 1))\n",
    "\n",
    "noisy = clean + np.random.normal(0, 0.05, size=(rows, cols))\n"
   ]
  },
  {
   "cell_type": "code",
   "execution_count": 2,
   "metadata": {
    "autoscroll": false,
    "collapsed": false,
    "ein.hycell": false,
    "ein.tags": "worksheet-0",
    "slideshow": {
     "slide_type": "-"
    }
   },
   "outputs": [],
   "source": [
    "def square_sym_grad(src):\n",
    "    rows = src.shape[0]\n",
    "    cols = src.shape[1]\n",
    "    \n",
    "    src_zero = np.zeros((rows + 2, cols + 2))\n",
    "    src_zero[1:-1, 1:-1] = src\n",
    "\n",
    "    src_edge = np.zeros((src.shape[0] + 2, src.shape[1] + 2))\n",
    "    src_edge[1:-1, 1:-1] = src\n",
    "    src_edge[1:-1, 0] = src[:, 0]\n",
    "    src_edge[1:-1, -1] = src[:, -1]\n",
    "    src_edge[0, 1:-1] = src[0, :]\n",
    "    src_edge[-1, 1:-1] = src[-1, :]\n",
    "    \n",
    "    dst = np.zeros((rows, cols, 3))\n",
    "\n",
    "    for y in range(0, rows):\n",
    "        for x in range(0, cols):\n",
    "            dst[y, x, 0] = np.sum(np.array(([1, -2, 1])) * src_edge[y + 1, x:x + 3])\n",
    "            dst[y, x, 1] = np.sum(np.array(([1, -2, 1])) * src_edge[y:y+3, x + 1])\n",
    "            dst[y, x, 2] = (np.sum(np.array(([[0, 1, -1], [1, -2, 1], [-1, 1, 0]])) * src_zero[y:y + 3, x:x + 3])) * 0.5\n",
    "    return dst\n",
    "\n",
    "\n",
    "def square_div(src):\n",
    "    rows = src.shape[0]\n",
    "    cols = src.shape[1]\n",
    "    \n",
    "    src0 = np.zeros((rows + 2, cols + 2))\n",
    "    src1 = np.zeros((rows + 2, cols + 2))\n",
    "    src2 = np.zeros((rows + 2, cols + 2))\n",
    "\n",
    "    src0[1:-1, 1:-1] = src[:, :, 0]\n",
    "    src1[1:-1, 1:-1] = src[:, :, 1]\n",
    "    src2[1:-1, 1:-1] = src[:, :, 2]\n",
    "\n",
    "    src0[1:-1, 0] = src[:, 0, 0]\n",
    "    src0[1:-1, -1] = src[:, -1, 0]\n",
    "    src0[0, 1:-1] = src[0, :, 0]\n",
    "    src0[-1, 1:-1] = src[-1, :, 0]\n",
    "    \n",
    "    src1[1:-1, 0] = src[:, 0, 1]\n",
    "    src1[1:-1, -1] = src[:, -1, 1]\n",
    "    src1[0, 1:-1] = src[0, :, 1]\n",
    "    src1[-1, 1:-1] = src[-1, :, 1]\n",
    "\n",
    "    dst = np.zeros((rows, cols))\n",
    "    \n",
    "    for y in range(0, rows):\n",
    "        for x in range(0, cols):\n",
    "            dst[y, x] = np.sum(np.array(([1, -2, 1])) * src0[y + 1, x:x + 3]) \\\n",
    "                + np.sum(np.array(([1, -2, 1])) * src1[y:y+3, x + 1]) \\\n",
    "                + np.sum(np.array(([[0, 1, -1], [1, -2, 1], [-1, 1, 0]])) * src2[y:y + 3, x:x + 3])\n",
    "    return dst\n",
    "\n"
   ]
  },
  {
   "cell_type": "code",
   "execution_count": 94,
   "metadata": {
    "autoscroll": false,
    "collapsed": false,
    "ein.hycell": false,
    "ein.tags": "worksheet-0",
    "slideshow": {
     "slide_type": "-"
    }
   },
   "outputs": [],
   "source": [
    "def sym_grad(src):\n",
    "    rows = src.shape[0]\n",
    "    cols = src.shape[1]\n",
    "\n",
    "    dst = np.zeros((rows, cols, 3))\n",
    "\n",
    "    dst[:, 1:, 0] = src[:, 1:, 0] - src[:, :-1, 0]\n",
    "    dst[:, 0, 0] = src[:, 0, 0]\n",
    "    dst[:, -1, 0] = -src[:, -2, 0]\n",
    "    \n",
    "    dst[1:, :, 1] = src[1:, :, 1] - src[:-1, :, 1]\n",
    "    dst[0, :, 1] = src[0, :, 1]\n",
    "    dst[-1, :, 1] = -src[-2, :, 1]\n",
    "\n",
    "    tmp = np.zeros((rows, cols, 2))\n",
    "    tmp[:, 1:, 0] = src[:, 1:, 1] - src[:, :-1, 1]\n",
    "    tmp[:, 0, 0] = src[:, 0, 1]\n",
    "    tmp[:, -1, 0] = -src[:, -2, 1]\n",
    "    \n",
    "    tmp[1:, :, 1] = src[1:, :, 0] - src[:-1, :, 0]\n",
    "    tmp[0, :, 1] = src[0, :, 0]\n",
    "    tmp[-1, :, 1] = -src[-2, :, 0]\n",
    "\n",
    "    dst[:, :, 2] = (tmp[:, :, 0] + tmp[:, :, 1]) * 0.5\n",
    "\n",
    "    return dst\n",
    "\n",
    "\n",
    "def divergence(src):\n",
    "    rows = src.shape[0]\n",
    "    cols = src.shape[1]\n",
    "    \n",
    "    dst = np.zeros((rows, cols, 2))\n",
    "    \n",
    "    tmp = np.zeros((rows, cols, 4))\n",
    "    tmp[:, :-1, 0] = src[:, 1:, 0] - src[:, :-1, 0]\n",
    "    tmp[:-1, :, 1] = src[1:, :, 1] - src[:-1, :, 1]\n",
    "    tmp[:-1, :, 2] = src[1:, :, 2] - src[:-1, :, 2]\n",
    "    tmp[:, :-1, 3] = src[:, 1:, 2] - src[:, :-1, 2]\n",
    "\n",
    "    dst[:, :, 0] = tmp[:, :, 0] + tmp[:, :, 2]\n",
    "    dst[:, :, 1] = tmp[:, :, 1] + tmp[:, :, 3]\n",
    "\n",
    "    return dst\n"
   ]
  },
  {
   "cell_type": "code",
   "execution_count": 95,
   "metadata": {
    "autoscroll": false,
    "collapsed": false,
    "ein.hycell": false,
    "ein.tags": "worksheet-0",
    "slideshow": {
     "slide_type": "-"
    }
   },
   "outputs": [],
   "source": [
    "def update_nesterov_param(t):\n",
    "    return (1 + math.sqrt(1 + 4 * t * t)) / 2\n",
    "\n",
    "def shrink(image, lamb):\n",
    "    abs_img = np.abs(image)\n",
    "    shrink_img = np.where((abs_img - lamb) > 0,  (abs_img - lamb) * image / abs_img, 0)\n",
    "    return shrink_img\n",
    "\n",
    "    \n",
    "def prox_grad(v_hat, alpha0, alpha1, sigma, iter_num = 100):\n",
    "    t0 = 1\n",
    "    t1 = update_nesterov_param(t0)\n",
    "    t2 = update_nesterov_param(t1)\n",
    "\n",
    "    eta0 = np.zeros((v_hat.shape[0], v_hat.shape[1], 2))\n",
    "    eta_bar = np.zeros((v_hat.shape[0], v_hat.shape[1], 2))\n",
    "\n",
    "    for i in range(iter_num):\n",
    "        tmp = v_hat + sym_grad(eta_bar)\n",
    "        q = shrink(tmp, alpha0)\n",
    "    \n",
    "        eta1 = shrink(eta_bar + sigma * divergence(tmp - q), sigma * alpha1)\n",
    "        eta_bar = eta1 + t0 / t2 * (eta1 - eta0)\n",
    "\n",
    "        eta0 = eta1\n",
    "        t0 = t1\n",
    "        t1 = t2\n",
    "        t2 = update_nesterov_param(t2)\n",
    "\n",
    "    print(np.sqrt(np.sum(np.square(v_hat - q + sym_grad(eta1)))))\n",
    "    return v_hat - q + sym_grad(eta1)"
   ]
  },
  {
   "cell_type": "code",
   "execution_count": null,
   "metadata": {
    "autoscroll": false,
    "collapsed": false,
    "ein.hycell": false,
    "ein.tags": "worksheet-0",
    "slideshow": {
     "slide_type": "-"
    }
   },
   "outputs": [],
   "source": [
    "\n",
    "v0 = np.zeros((rows, cols, 3))\n",
    "v_bar = np.zeros((rows, cols, 3))\n",
    "\n",
    "t0 = 1\n",
    "t1 = update_nesterov_param(t0)\n",
    "t2 = update_nesterov_param(t1)\n",
    "\n",
    "for i in range(iter_num):\n",
    "# for i in range(1):\n",
    "    # print(i)\n",
    "    v1 = prox_grad(v_bar + tau * square_sym_grad(noisy - square_div(v_bar)), alpha0, alpha1, sigma, iter_num)\n",
    "    v_bar = v1 + t0 / t2 * (v1 - v0)\n",
    "    t0 = t1\n",
    "    t1 = t2\n",
    "    t2 = update_nesterov_param(t2)\n",
    "    #print(np.sum(np.abs(square_div(v1))) / (rows * cols))\n",
    "\n",
    "# calc_u\n",
    "denoise = noisy - square_div(v1)\n",
    "\n",
    "# print(input)\n",
    "# print(denoise)\n"
   ]
  },
  {
   "cell_type": "code",
   "execution_count": 82,
   "metadata": {
    "autoscroll": false,
    "collapsed": false,
    "ein.hycell": false,
    "ein.tags": "worksheet-0",
    "slideshow": {
     "slide_type": "-"
    }
   },
   "outputs": [
    {
     "data": {
      "image/png": "[encoded data removed]",
      "text/plain": [
       "<Figure size 432x288 with 3 Axes>"
      ]
     },
     "metadata": {},
     "output_type": "display_data"
    }
   ],
   "source": [
    "%matplotlib inline\n",
    "import matplotlib.pyplot as plt\n",
    "\n",
    "fig = plt.figure()\n",
    "\n",
    "ax = fig.add_subplot(131)\n",
    "ax.imshow(clean, cmap='gray')\n",
    "\n",
    "ax = fig.add_subplot(132)\n",
    "ax.imshow(noisy, cmap='gray')\n",
    "\n",
    "ax = fig.add_subplot(133)\n",
    "ax.imshow(denoise, cmap='gray')\n",
    "\n",
    "plt.savefig(\"./image/test.png\")"
   ]
  },
  {
   "cell_type": "code",
   "execution_count": null,
   "metadata": {
    "autoscroll": false,
    "collapsed": false,
    "ein.hycell": false,
    "ein.tags": "worksheet-0",
    "slideshow": {
     "slide_type": "-"
    }
   },
   "outputs": [],
   "source": []
  }
 ],
 "metadata": {
  "kernelspec": {
   "display_name": "Python 3",
   "name": "python3"
  },
  "name": "test_cpp_TGV.ipynb"
 },
 "nbformat": 4,
 "nbformat_minor": 2
}
