{
 "cells": [
  {
   "cell_type": "code",
   "execution_count": 42,
   "metadata": {
    "autoscroll": false,
    "collapsed": false,
    "ein.hycell": false,
    "ein.tags": "worksheet-0",
    "slideshow": {
     "slide_type": "-"
    }
   },
   "outputs": [],
   "source": [
    "import numpy as np\n",
    "import cv2\n",
    "from scipy.ndimage import gaussian_filter, laplace\n",
    "\n",
    "size = 64\n",
    "img = np.zeros((size, size))\n",
    "img[:, :] = 100\n",
    "\n",
    "cv2.circle(img, (size // 2, size // 2), size // 8, 200, -1)\n",
    "\n",
    "rho = 6.0\n",
    "\n",
    "levelset = initContour(np.zeros((size, size)), rho)\n",
    "\n",
    "iter_num = 1\n",
    "epsilon = 1.5\n",
    "for i in range(iter_num):\n",
    "    delta = np.zeros((size, size))\n",
    "    delta[np.where(np.abs(levelset) < epsilon)] = 1 / (2 * epsilon) * (\n",
    "        1 + np.cos(levelset[np.where(np.abs(levelset) < epsilon)] * np.pi / epsilon))\n",
    "    # print(len(delta[np.where(np.abs(levelset) < epsilon)]))\n",
    "                              #1 / (2 * epsilon) * (1 + np.cos(np.pi * levelset / epsilon)), 0)]\n",
    "    #denergy = calcInnerEnergy(phi) + calcLineEnergh(phi, g) + calcRegionEnergy(phi, g)\n"
   ]
  },
  {
   "cell_type": "code",
   "execution_count": 43,
   "metadata": {
    "autoscroll": false,
    "collapsed": false,
    "ein.hycell": false,
    "ein.tags": "worksheet-0",
    "slideshow": {
     "slide_type": "-"
    }
   },
   "outputs": [],
   "source": [
    "def initContour(levelset, rho):\n",
    "    width = levelset.shape[1]\n",
    "    height = levelset.shape[0]\n",
    "\n",
    "    left = width // 4\n",
    "    right = width - left\n",
    "    top = height // 4\n",
    "    bottom = height - top\n",
    "\n",
    "    levelset[top + 1:bottom, left + 1:right] = -rho\n",
    "    levelset[:top, :] = levelset[bottom + 1:] = levelset[:, :left] = levelset[:, right + 1:] = rho\n",
    "\n",
    "    return levelset\n"
   ]
  },
  {
   "cell_type": "code",
   "execution_count": 23,
   "metadata": {
    "autoscroll": false,
    "collapsed": false,
    "ein.hycell": false,
    "ein.tags": "worksheet-0",
    "slideshow": {
     "slide_type": "-"
    }
   },
   "outputs": [],
   "source": [
    "def calcEdgeFunc(img):\n",
    "    gauss = gaussian_filter(img, 1)\n",
    "    dx, dy = np.gradient(gauss)\n",
    "    edge_func = 1.0 / (np.hypot(dx, dy) + 0.001)\n",
    "    return edge_func\n",
    "\n",
    "edge_func = calcEdgeFunc(img)"
   ]
  },
  {
   "cell_type": "code",
   "execution_count": 24,
   "metadata": {
    "autoscroll": false,
    "collapsed": false,
    "ein.hycell": false,
    "ein.tags": "worksheet-0",
    "slideshow": {
     "slide_type": "-"
    }
   },
   "outputs": [],
   "source": [
    "def calcInnerEnergy(phi):\n",
    "    phi_lap = laplace(phi)\n",
    "    dx, dy = np.gradient(phi)\n",
    "    dxx, dxy = np.gradient(dx)\n",
    "    dyx, dyy = np.gradient(dy)\n",
    "    curv = dxx * dy ** 2 - (dxy + dyx) * dx * dy + dyy * dx ** 2 / ((np.hypot(dx, dy)) ** 1.5 + 0.001)\n",
    "    return phi_lap - curv\n",
    "\n",
    "inter = calcInnerEnergy(levelset)"
   ]
  },
  {
   "cell_type": "code",
   "execution_count": null,
   "metadata": {
    "autoscroll": false,
    "collapsed": false,
    "ein.hycell": false,
    "ein.tags": "worksheet-0",
    "slideshow": {
     "slide_type": "-"
    }
   },
   "outputs": [],
   "source": [
    "def calcLineEnergy(phi, delta, g):\n",
    "    "
   ]
  },
  {
   "cell_type": "code",
   "execution_count": null,
   "metadata": {
    "autoscroll": false,
    "collapsed": false,
    "ein.hycell": false,
    "ein.tags": "worksheet-0",
    "slideshow": {
     "slide_type": "-"
    }
   },
   "outputs": [],
   "source": [
    "def calcRegionEnergy(phi, delta, g):\n",
    "    "
   ]
  },
  {
   "cell_type": "code",
   "execution_count": 25,
   "metadata": {
    "autoscroll": false,
    "collapsed": false,
    "ein.hycell": false,
    "ein.tags": "worksheet-0",
    "slideshow": {
     "slide_type": "-"
    }
   },
   "outputs": [
    {
     "data": {
      "image/png": "[encoded data removed]",
      "text/plain": [
       "<Figure size 432x288 with 1 Axes>"
      ]
     },
     "metadata": {},
     "output_type": "display_data"
    }
   ],
   "source": [
    "import matplotlib.pyplot as plt\n",
    "\n",
    "\n",
    "def show_img(img):\n",
    "    xgrid, ygrid = np.meshgrid(np.arange(size), np.arange(size))\n",
    "\n",
    "    fig = plt.figure()\n",
    "    ax = fig.add_subplot(111)\n",
    "    ax.pcolor(xgrid, ygrid, img, cmap=\"gray\", linewidth=0)\n",
    "    \n",
    "    plt.show()\n",
    "\n",
    "show_img(inter)\n"
   ]
  },
  {
   "cell_type": "code",
   "execution_count": null,
   "metadata": {
    "autoscroll": false,
    "collapsed": false,
    "ein.hycell": false,
    "ein.tags": "worksheet-0",
    "slideshow": {
     "slide_type": "-"
    }
   },
   "outputs": [],
   "source": []
  }
 ],
 "metadata": {
  "kernelspec": {
   "display_name": "Python 3",
   "name": "python3"
  },
  "name": "levelset.ipynb"
 },
 "nbformat": 4,
 "nbformat_minor": 2
}
