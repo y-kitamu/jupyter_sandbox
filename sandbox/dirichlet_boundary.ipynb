{
 "cells": [
  {
   "cell_type": "code",
   "execution_count": null,
   "metadata": {
    "autoscroll": false,
    "collapsed": false,
    "ein.hycell": false,
    "ein.tags": "worksheet-0",
    "slideshow": {
     "slide_type": "-"
    }
   },
   "outputs": [],
   "source": [
    "import numpy as np\n",
    "\n",
    "def diff_dirichlet_boundary(src):\n",
    "    dst = np.ndarray(src.shape)\n",
    "\n",
    "    dims = dst.ndim\n",
    "    dst = np.diff(src, axis=0)"
   ]
  }
 ],
 "metadata": {
  "kernelspec": {
   "display_name": "Python 3",
   "name": "python3"
  },
  "language_info": {
   "codemirror_mode": {
    "name": "ipython",
    "version": 3
   },
   "file_extension": ".py",
   "mimetype": "text/x-python",
   "name": "python",
   "nbconvert_exporter": "python",
   "pygments_lexer": "ipython3",
   "version": "3.6.7"
  },
  "name": "dirichlet_boundary.ipynb"
 },
 "nbformat": 4,
 "nbformat_minor": 2
}
