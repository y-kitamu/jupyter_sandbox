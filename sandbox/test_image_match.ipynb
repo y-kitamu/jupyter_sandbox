{
 "cells": [
  {
   "cell_type": "code",
   "execution_count": 50,
   "metadata": {
    "autoscroll": false,
    "collapsed": false,
    "ein.hycell": false,
    "ein.tags": "worksheet-0",
    "slideshow": {
     "slide_type": "-"
    }
   },
   "outputs": [
    {
     "name": "stdout",
     "output_type": "stream",
     "text": [
      "20181012_114922.jpg -> 20181012_114922.jpg\n"
     ]
    },
    {
     "name": "stdout",
     "output_type": "stream",
     "text": [
      "20181012_120243.jpg -> 20181012_120243.jpg\n"
     ]
    },
    {
     "name": "stdout",
     "output_type": "stream",
     "text": [
      "20181012_123201.jpg -> 20181012_123201.jpg\n"
     ]
    },
    {
     "name": "stdout",
     "output_type": "stream",
     "text": [
      "20181012_124633.jpg -> 20181012_124633.jpg\n"
     ]
    },
    {
     "name": "stdout",
     "output_type": "stream",
     "text": [
      "20181012_124734.jpg -> 20181012_124734.jpg\n"
     ]
    },
    {
     "name": "stdout",
     "output_type": "stream",
     "text": [
      "一件目カーテン_1_1.jpg -> 20181012_111103.jpg\n"
     ]
    },
    {
     "name": "stdout",
     "output_type": "stream",
     "text": [
      "一件目カーテン_1_2.jpg -> 20181012_111115.jpg\n"
     ]
    },
    {
     "name": "stdout",
     "output_type": "stream",
     "text": [
      "一件目カーテン_2_1.jpg -> 20181012_111142.jpg\n"
     ]
    },
    {
     "name": "stdout",
     "output_type": "stream",
     "text": [
      "一件目カーテン_2_2.jpg -> 20181012_111200.jpg\n"
     ]
    },
    {
     "name": "stdout",
     "output_type": "stream",
     "text": [
      "一件目カーテン_3_1.jpg -> 20181012_111324.jpg\n"
     ]
    },
    {
     "name": "stdout",
     "output_type": "stream",
     "text": [
      "一件目カーテン_3_2.jpg -> 20181012_111329.jpg\n"
     ]
    },
    {
     "name": "stdout",
     "output_type": "stream",
     "text": [
      "一件目カーテン_4_1.jpg -> 20181012_112009.jpg\n"
     ]
    },
    {
     "name": "stdout",
     "output_type": "stream",
     "text": [
      "一件目カーテン_4_2.jpg -> 20181012_112025.jpg\n"
     ]
    },
    {
     "name": "stdout",
     "output_type": "stream",
     "text": [
      "一件目カーテン_5_1.jpg -> 20181012_113509.jpg\n"
     ]
    },
    {
     "name": "stdout",
     "output_type": "stream",
     "text": [
      "一件目カーテン_5_2.jpg -> 20181012_113522.jpg\n"
     ]
    },
    {
     "name": "stdout",
     "output_type": "stream",
     "text": [
      "一件目カーテン_6_1.jpg -> 20181012_113544.jpg\n"
     ]
    },
    {
     "name": "stdout",
     "output_type": "stream",
     "text": [
      "一件目カーテン_6_2.jpg -> 20181012_113552.jpg\n"
     ]
    },
    {
     "name": "stdout",
     "output_type": "stream",
     "text": [
      "一件目クローゼット_1_1.jpg -> 20181012_113848.jpg\n"
     ]
    },
    {
     "name": "stdout",
     "output_type": "stream",
     "text": [
      "一件目クローゼット_1_2.jpg -> 20181012_113856.jpg\n"
     ]
    },
    {
     "name": "stdout",
     "output_type": "stream",
     "text": [
      "一件目クローゼット_2_1.jpg -> 20181012_113914.jpg\n"
     ]
    },
    {
     "name": "stdout",
     "output_type": "stream",
     "text": [
      "一件目クローゼット_2_2.jpg -> 20181012_113923.jpg\n"
     ]
    },
    {
     "name": "stdout",
     "output_type": "stream",
     "text": [
      "一件目ドア_1_1.jpg -> 20181012_113624.jpg\n"
     ]
    },
    {
     "name": "stdout",
     "output_type": "stream",
     "text": [
      "一件目ドア_1_2.jpg -> 20181012_113639.jpg\n"
     ]
    },
    {
     "name": "stdout",
     "output_type": "stream",
     "text": [
      "一件目冷蔵庫_1_1.jpg -> 20181012_112941.jpg\n"
     ]
    },
    {
     "name": "stdout",
     "output_type": "stream",
     "text": [
      "一件目冷蔵庫_1_2.jpg -> 20181012_112957.jpg\n"
     ]
    },
    {
     "name": "stdout",
     "output_type": "stream",
     "text": [
      "一件目冷蔵庫_2_1.jpg -> 20181012_113030.jpg\n"
     ]
    },
    {
     "name": "stdout",
     "output_type": "stream",
     "text": [
      "一件目冷蔵庫_2_2.jpg -> 20181012_113037.jpg\n"
     ]
    },
    {
     "name": "stdout",
     "output_type": "stream",
     "text": [
      "一件目床_1_1.jpg -> 20181012_113137.jpg\n"
     ]
    },
    {
     "name": "stdout",
     "output_type": "stream",
     "text": [
      "一件目床_1_2.jpg -> 20181012_113146.jpg\n"
     ]
    },
    {
     "name": "stdout",
     "output_type": "stream",
     "text": [
      "一件目床_2_1.jpg -> 20181012_113353.jpg\n"
     ]
    },
    {
     "name": "stdout",
     "output_type": "stream",
     "text": [
      "一件目床_2_2.jpg -> 20181012_113403.jpg\n"
     ]
    },
    {
     "name": "stdout",
     "output_type": "stream",
     "text": [
      "三件目カーテン_1_1.jpg -> 20181012_122303.jpg\n"
     ]
    },
    {
     "name": "stdout",
     "output_type": "stream",
     "text": [
      "三件目カーテン_1_2.jpg -> 20181012_122313.jpg\n"
     ]
    },
    {
     "name": "stdout",
     "output_type": "stream",
     "text": [
      "三件目カーテン_2_1.jpg -> 20181012_122411.jpg\n"
     ]
    },
    {
     "name": "stdout",
     "output_type": "stream",
     "text": [
      "三件目カーテン_2_2.jpg -> 20181012_122419.jpg\n"
     ]
    },
    {
     "name": "stdout",
     "output_type": "stream",
     "text": [
      "三件目カーテン_3_1.jpg -> 20181012_122744.jpg\n"
     ]
    },
    {
     "name": "stdout",
     "output_type": "stream",
     "text": [
      "三件目カーテン_3_2.jpg -> 20181012_122755.jpg\n"
     ]
    },
    {
     "name": "stdout",
     "output_type": "stream",
     "text": [
      "三件目カーテン_4_1.jpg -> 20181012_122812.jpg\n"
     ]
    },
    {
     "name": "stdout",
     "output_type": "stream",
     "text": [
      "三件目カーテン_4_2.jpg -> 20181012_122821.jpg\n"
     ]
    },
    {
     "name": "stdout",
     "output_type": "stream",
     "text": [
      "三件目カーテン_5_1.jpg -> 20181012_122856.jpg\n"
     ]
    },
    {
     "name": "stdout",
     "output_type": "stream",
     "text": [
      "三件目カーテン_5_2.jpg -> 20181012_122913.jpg\n"
     ]
    },
    {
     "name": "stdout",
     "output_type": "stream",
     "text": [
      "三件目カーテン_6_1.jpg -> 20181012_122942.jpg\n"
     ]
    },
    {
     "name": "stdout",
     "output_type": "stream",
     "text": [
      "三件目カーテン_6_2.jpg -> 20181012_122949.jpg\n"
     ]
    },
    {
     "name": "stdout",
     "output_type": "stream",
     "text": [
      "三件目カーテン_7_1.jpg -> 20181012_123128.jpg\n"
     ]
    },
    {
     "name": "stdout",
     "output_type": "stream",
     "text": [
      "三件目カーテン_7_2.jpg -> 20181012_123145.jpg\n"
     ]
    },
    {
     "name": "stdout",
     "output_type": "stream",
     "text": [
      "三件目カーテン_8_1.jpg -> 20181012_124252.jpg\n"
     ]
    },
    {
     "name": "stdout",
     "output_type": "stream",
     "text": [
      "三件目カーテン_8_2.jpg -> 20181012_124302.jpg\n"
     ]
    },
    {
     "name": "stdout",
     "output_type": "stream",
     "text": [
      "三件目クローゼット_1_1.jpg -> 20181012_123251.jpg\n"
     ]
    },
    {
     "name": "stdout",
     "output_type": "stream",
     "text": [
      "三件目クローゼット_1_2.jpg -> 20181012_123301.jpg\n"
     ]
    },
    {
     "name": "stdout",
     "output_type": "stream",
     "text": [
      "三件目クローゼット_2_1.jpg -> 20181012_123328.jpg\n"
     ]
    },
    {
     "name": "stdout",
     "output_type": "stream",
     "text": [
      "三件目クローゼット_2_2.jpg -> 20181012_123335.jpg\n"
     ]
    },
    {
     "name": "stdout",
     "output_type": "stream",
     "text": [
      "三件目クローゼット_3_1.jpg -> 20181012_123358.jpg\n"
     ]
    },
    {
     "name": "stdout",
     "output_type": "stream",
     "text": [
      "三件目クローゼット_3_2.jpg -> 20181012_123407.jpg\n"
     ]
    },
    {
     "name": "stdout",
     "output_type": "stream",
     "text": [
      "三件目クローゼット_4_1.jpg -> 20181012_123425.jpg\n"
     ]
    },
    {
     "name": "stdout",
     "output_type": "stream",
     "text": [
      "三件目クローゼット_4_2.jpg -> 20181012_123432.jpg\n"
     ]
    },
    {
     "name": "stdout",
     "output_type": "stream",
     "text": [
      "三件目クローゼット_5_1.jpg -> 20181012_123501.jpg\n"
     ]
    },
    {
     "name": "stdout",
     "output_type": "stream",
     "text": [
      "三件目クローゼット_5_2.jpg -> 20181012_123515.jpg\n"
     ]
    },
    {
     "name": "stdout",
     "output_type": "stream",
     "text": [
      "三件目クローゼット_6_1.jpg -> 20181012_123559.jpg\n"
     ]
    },
    {
     "name": "stdout",
     "output_type": "stream",
     "text": [
      "三件目クローゼット_6_2.jpg -> 20181012_123606.jpg\n"
     ]
    },
    {
     "name": "stdout",
     "output_type": "stream",
     "text": [
      "三件目クローゼット_7_1.jpg -> 20181012_124104.jpg\n"
     ]
    },
    {
     "name": "stdout",
     "output_type": "stream",
     "text": [
      "三件目クローゼット_7_2.jpg -> 20181012_124113.jpg\n"
     ]
    },
    {
     "name": "stdout",
     "output_type": "stream",
     "text": [
      "三件目ドア_1_1.jpg -> 20181012_125511.jpg\n"
     ]
    },
    {
     "name": "stdout",
     "output_type": "stream",
     "text": [
      "三件目ドア_1_2.jpg -> 20181012_125524.jpg\n"
     ]
    },
    {
     "name": "stdout",
     "output_type": "stream",
     "text": [
      "三件目ドア_2_1.jpg -> 20181012_125537.jpg\n"
     ]
    },
    {
     "name": "stdout",
     "output_type": "stream",
     "text": [
      "三件目ドア_2_2.jpg -> 20181012_125542.jpg\n"
     ]
    },
    {
     "name": "stdout",
     "output_type": "stream",
     "text": [
      "三件目ドア_3_1.jpg -> 20181012_125614.jpg\n"
     ]
    },
    {
     "name": "stdout",
     "output_type": "stream",
     "text": [
      "三件目ドア_3_2.jpg -> 20181012_125621.jpg\n"
     ]
    },
    {
     "name": "stdout",
     "output_type": "stream",
     "text": [
      "三件目ドア_4_1.jpg -> 20181012_125643.jpg\n"
     ]
    },
    {
     "name": "stdout",
     "output_type": "stream",
     "text": [
      "三件目ドア_4_2.jpg -> 20181012_125650.jpg\n"
     ]
    },
    {
     "name": "stdout",
     "output_type": "stream",
     "text": [
      "三件目ドア_5_1.jpg -> 20181012_125712.jpg\n"
     ]
    },
    {
     "name": "stdout",
     "output_type": "stream",
     "text": [
      "三件目ドア_5_2.jpg -> 20181012_125727.jpg\n"
     ]
    },
    {
     "name": "stdout",
     "output_type": "stream",
     "text": [
      "三件目冷蔵庫_1_1.jpg -> 20181012_125117.jpg\n"
     ]
    },
    {
     "name": "stdout",
     "output_type": "stream",
     "text": [
      "三件目冷蔵庫_1_2.jpg -> 20181012_125125.jpg\n"
     ]
    },
    {
     "name": "stdout",
     "output_type": "stream",
     "text": [
      "三件目冷蔵庫_2_1.jpg -> 20181012_125144.jpg\n"
     ]
    },
    {
     "name": "stdout",
     "output_type": "stream",
     "text": [
      "三件目冷蔵庫_2_2.jpg -> 20181012_125151.jpg\n"
     ]
    },
    {
     "name": "stdout",
     "output_type": "stream",
     "text": [
      "三件目冷蔵庫_3_1.jpg -> 20181012_125208.jpg\n"
     ]
    },
    {
     "name": "stdout",
     "output_type": "stream",
     "text": [
      "三件目冷蔵庫_3_2.jpg -> 20181012_125218.jpg\n"
     ]
    },
    {
     "name": "stdout",
     "output_type": "stream",
     "text": [
      "三件目冷蔵庫_4_1.jpg -> 20181012_125234.jpg\n"
     ]
    },
    {
     "name": "stdout",
     "output_type": "stream",
     "text": [
      "三件目冷蔵庫_4_2.jpg -> 20181012_125244.jpg\n"
     ]
    },
    {
     "name": "stdout",
     "output_type": "stream",
     "text": [
      "三件目冷蔵庫_5_1.jpg -> 20181012_125421.jpg\n"
     ]
    },
    {
     "name": "stdout",
     "output_type": "stream",
     "text": [
      "三件目冷蔵庫_5_2.jpg -> 20181012_125428.jpg\n"
     ]
    },
    {
     "name": "stdout",
     "output_type": "stream",
     "text": [
      "三件目床_1_1.jpg -> 20181012_124214.jpg\n"
     ]
    },
    {
     "name": "stdout",
     "output_type": "stream",
     "text": [
      "三件目床_1_2.jpg -> 20181012_124223.jpg\n"
     ]
    },
    {
     "name": "stdout",
     "output_type": "stream",
     "text": [
      "三件目床_2_1.jpg -> 20181012_124818.jpg\n"
     ]
    },
    {
     "name": "stdout",
     "output_type": "stream",
     "text": [
      "三件目床_2_2.jpg -> 20181012_124841.jpg\n"
     ]
    },
    {
     "name": "stdout",
     "output_type": "stream",
     "text": [
      "三件目床_3_1.jpg -> 20181012_124919.jpg\n"
     ]
    },
    {
     "name": "stdout",
     "output_type": "stream",
     "text": [
      "三件目床_3_2.jpg -> 20181012_124936.jpg\n"
     ]
    },
    {
     "name": "stdout",
     "output_type": "stream",
     "text": [
      "三件目洗濯機_1_1.jpg -> 20181012_124333.jpg\n"
     ]
    },
    {
     "name": "stdout",
     "output_type": "stream",
     "text": [
      "三件目洗濯機_1_2.jpg -> 20181012_124339.jpg\n"
     ]
    },
    {
     "name": "stdout",
     "output_type": "stream",
     "text": [
      "三件目洗濯機_2_1.jpg -> 20181012_124356.jpg\n"
     ]
    },
    {
     "name": "stdout",
     "output_type": "stream",
     "text": [
      "三件目洗濯機_2_2.jpg -> 20181012_124401.jpg\n"
     ]
    },
    {
     "name": "stdout",
     "output_type": "stream",
     "text": [
      "二件目カーテン_1_1.jpg -> 20181012_114815.jpg\n"
     ]
    },
    {
     "name": "stdout",
     "output_type": "stream",
     "text": [
      "二件目カーテン_1_2.jpg -> 20181012_114829.jpg\n"
     ]
    },
    {
     "name": "stdout",
     "output_type": "stream",
     "text": [
      "二件目カーテン_2_1.jpg -> 20181012_114846.jpg\n"
     ]
    },
    {
     "name": "stdout",
     "output_type": "stream",
     "text": [
      "二件目カーテン_2_2.jpg -> 20181012_114904.jpg\n"
     ]
    },
    {
     "name": "stdout",
     "output_type": "stream",
     "text": [
      "二件目カーテン_3_1.jpg -> 20181012_115201.jpg\n"
     ]
    },
    {
     "name": "stdout",
     "output_type": "stream",
     "text": [
      "二件目カーテン_3_2.jpg -> 20181012_115213.jpg\n"
     ]
    },
    {
     "name": "stdout",
     "output_type": "stream",
     "text": [
      "二件目クローゼット_1_1.jpg -> 20181012_115742.jpg\n"
     ]
    },
    {
     "name": "stdout",
     "output_type": "stream",
     "text": [
      "二件目クローゼット_1_2.jpg -> 20181012_115753.jpg\n"
     ]
    },
    {
     "name": "stdout",
     "output_type": "stream",
     "text": [
      "二件目クローゼット_2_1.jpg -> 20181012_115823.jpg\n"
     ]
    },
    {
     "name": "stdout",
     "output_type": "stream",
     "text": [
      "二件目クローゼット_2_2.jpg -> 20181012_115830.jpg\n"
     ]
    },
    {
     "name": "stdout",
     "output_type": "stream",
     "text": [
      "二件目クローゼット_3_1.jpg -> 20181012_115849.jpg\n"
     ]
    },
    {
     "name": "stdout",
     "output_type": "stream",
     "text": [
      "二件目クローゼット_3_2.jpg -> 20181012_115855.jpg\n"
     ]
    },
    {
     "name": "stdout",
     "output_type": "stream",
     "text": [
      "二件目ドア_1_1.jpg -> 20181012_120105.jpg\n"
     ]
    },
    {
     "name": "stdout",
     "output_type": "stream",
     "text": [
      "二件目ドア_1_2.jpg -> 20181012_120119.jpg\n"
     ]
    },
    {
     "name": "stdout",
     "output_type": "stream",
     "text": [
      "二件目ドア_2_1.jpg -> 20181012_120136.jpg\n"
     ]
    },
    {
     "name": "stdout",
     "output_type": "stream",
     "text": [
      "二件目ドア_2_2.jpg -> 20181012_120145.jpg\n"
     ]
    },
    {
     "name": "stdout",
     "output_type": "stream",
     "text": [
      "二件目ドア_3_1.jpg -> 20181012_120213.jpg\n"
     ]
    },
    {
     "name": "stdout",
     "output_type": "stream",
     "text": [
      "二件目ドア_3_2.jpg -> 20181012_120221.jpg\n"
     ]
    },
    {
     "name": "stdout",
     "output_type": "stream",
     "text": [
      "二件目冷蔵庫_1_1.jpg -> 20181012_120656.jpg\n"
     ]
    },
    {
     "name": "stdout",
     "output_type": "stream",
     "text": [
      "二件目冷蔵庫_1_2.jpg -> 20181012_120704.jpg\n"
     ]
    },
    {
     "name": "stdout",
     "output_type": "stream",
     "text": [
      "二件目冷蔵庫_2_1.jpg -> 20181012_120721.jpg\n"
     ]
    },
    {
     "name": "stdout",
     "output_type": "stream",
     "text": [
      "二件目冷蔵庫_2_2.jpg -> 20181012_120730.jpg\n"
     ]
    },
    {
     "name": "stdout",
     "output_type": "stream",
     "text": [
      "二件目床_1_1.jpg -> 20181012_115259.jpg\n"
     ]
    },
    {
     "name": "stdout",
     "output_type": "stream",
     "text": [
      "二件目床_1_2.jpg -> 20181012_115311.jpg\n"
     ]
    },
    {
     "name": "stdout",
     "output_type": "stream",
     "text": [
      "二件目床_2_1.jpg -> 20181012_115424.jpg\n"
     ]
    },
    {
     "name": "stdout",
     "output_type": "stream",
     "text": [
      "二件目床_2_2.jpg -> 20181012_115432.jpg\n"
     ]
    },
    {
     "name": "stdout",
     "output_type": "stream",
     "text": [
      "二件目洗濯機_1_1.jpg -> 20181012_120421.jpg\n"
     ]
    },
    {
     "name": "stdout",
     "output_type": "stream",
     "text": [
      "二件目洗濯機_1_2.jpg -> 20181012_120428.jpg\n"
     ]
    },
    {
     "name": "stdout",
     "output_type": "stream",
     "text": [
      "二件目洗濯機_2_1.jpg -> 20181012_120450.jpg\n"
     ]
    },
    {
     "name": "stdout",
     "output_type": "stream",
     "text": [
      "二件目洗濯機_2_2.jpg -> 20181012_120456.jpg\n"
     ]
    }
   ],
   "source": [
    "import cv2\n",
    "import numpy as np\n",
    "from pathlib import Path\n",
    "\n",
    "def calc_match_list(src_path, dst_path):\n",
    "    pair_dict = {}\n",
    "    for s in sorted(src_path.glob(\"*.jpg\")):\n",
    "        src_img = cv2.imread(str(s.resolve()))\n",
    "\n",
    "        for d in dst_path.glob(\"*.jpg\"):\n",
    "            dst_img = cv2.imread(str(d.resolve()))\n",
    "\n",
    "            if src_img.shape == dst_img.shape:\n",
    "                diff = np.sum(src_img[:, :] - dst_img[:, :])\n",
    "                if diff < 1.0:\n",
    "                    print(\"{} -> {}\".format(s.name, d.name))\n",
    "                    pair_dict[s.name.replace(\".jpg\", \"\")] = d.name.replace(\".jpg\", \"\")\n",
    "                    break\n",
    "    return pair_dict\n",
    "\n",
    "# ios_pair_dict = calc_match_list(Path(\"../image/ios_result\"), Path(\"../image/ios_test\"))\n",
    "android_pair_dict = calc_match_list(Path(\"../image/android_result\"), Path(\"../image/android_test\"))\n"
   ]
  },
  {
   "cell_type": "code",
   "execution_count": 52,
   "metadata": {
    "autoscroll": false,
    "collapsed": false,
    "ein.hycell": false,
    "ein.tags": "worksheet-0",
    "slideshow": {
     "slide_type": "-"
    }
   },
   "outputs": [
    {
     "name": "stdout",
     "output_type": "stream",
     "text": [
      "一件目カーテン_1_1, 20181012_111103.jpg, 20181012_111115.jpg\n",
      "一件目カーテン_1_1, 20181012_111103.jpg, 20181012_111115.jpg\n",
      "一件目カーテン_2_1, 20181012_111142.jpg, 20181012_111200.jpg\n",
      "一件目カーテン_2_1, 20181012_111142.jpg, 20181012_111200.jpg\n",
      "一件目カーテン_3_1, 20181012_111324.jpg, 20181012_111329.jpg\n",
      "一件目カーテン_4_1, 20181012_112009.jpg, 20181012_112025.jpg\n",
      "一件目冷蔵庫_1_1, 20181012_112941.jpg, 20181012_112957.jpg\n",
      "一件目冷蔵庫_2_1, 20181012_113030.jpg, 20181012_113037.jpg\n",
      "一件目冷蔵庫_2_1, 20181012_113030.jpg, 20181012_113037.jpg\n",
      "一件目床_1_1, 20181012_113137.jpg, 20181012_113146.jpg\n",
      "一件目床_1_1, 20181012_113137.jpg, 20181012_113146.jpg\n",
      "一件目床_2_1, 20181012_113353.jpg, 20181012_113403.jpg\n",
      "一件目床_2_1, 20181012_113353.jpg, 20181012_113403.jpg\n",
      "一件目カーテン_5_1, 20181012_113509.jpg, 20181012_113522.jpg\n",
      "一件目カーテン_6_1, 20181012_113544.jpg, 20181012_113552.jpg\n",
      "一件目ドア_1_1, 20181012_113624.jpg, 20181012_113639.jpg\n",
      "一件目クローゼット_1_1, 20181012_113848.jpg, 20181012_113856.jpg\n",
      "一件目クローゼット_2_1, 20181012_113914.jpg, 20181012_113923.jpg\n",
      "二件目カーテン_1_1, 20181012_114815.jpg, 20181012_114829.jpg\n",
      "二件目カーテン_2_1, 20181012_114846.jpg, 20181012_114904.jpg\n",
      "二件目カーテン_3_1, 20181012_115201.jpg, 20181012_115213.jpg\n",
      "二件目床_1_1, 20181012_115259.jpg, 20181012_115311.jpg\n",
      "二件目床_1_1, 20181012_115259.jpg, 20181012_115311.jpg\n",
      "二件目床_2_1, 20181012_115424.jpg, 20181012_115432.jpg\n",
      "二件目床_2_1, 20181012_115424.jpg, 20181012_115432.jpg\n",
      "二件目クローゼット_1_1, 20181012_115742.jpg, 20181012_115753.jpg\n",
      "二件目クローゼット_2_1, 20181012_115823.jpg, 20181012_115830.jpg\n",
      "二件目クローゼット_3_1, 20181012_115849.jpg, 20181012_115855.jpg\n",
      "二件目ドア_1_1, 20181012_120105.jpg, 20181012_120119.jpg\n",
      "二件目ドア_2_1, 20181012_120136.jpg, 20181012_120145.jpg\n",
      "二件目ドア_3_1, 20181012_120213.jpg, 20181012_120221.jpg\n",
      "二件目洗濯機_1_1, 20181012_120421.jpg, 20181012_120428.jpg\n",
      "二件目洗濯機_2_1, 20181012_120450.jpg, 20181012_120456.jpg\n",
      "二件目冷蔵庫_1_1, 20181012_120656.jpg, 20181012_120704.jpg\n",
      "二件目冷蔵庫_2_1, 20181012_120721.jpg, 20181012_120730.jpg\n",
      "三件目カーテン_1_1, 20181012_122303.jpg, 20181012_122313.jpg\n",
      "三件目カーテン_2_1, 20181012_122411.jpg, 20181012_122419.jpg\n",
      "三件目カーテン_3_1, 20181012_122744.jpg, 20181012_122755.jpg\n",
      "三件目カーテン_4_1, 20181012_122812.jpg, 20181012_122821.jpg\n",
      "三件目カーテン_5_1, 20181012_122856.jpg, 20181012_122913.jpg\n",
      "三件目カーテン_6_1, 20181012_122942.jpg, 20181012_122949.jpg\n",
      "三件目カーテン_7_1, 20181012_123128.jpg, 20181012_123145.jpg\n",
      "三件目クローゼット_1_1, 20181012_123251.jpg, 20181012_123301.jpg\n",
      "三件目クローゼット_2_1, 20181012_123328.jpg, 20181012_123335.jpg\n",
      "三件目クローゼット_3_1, 20181012_123358.jpg, 20181012_123407.jpg\n",
      "三件目クローゼット_4_1, 20181012_123425.jpg, 20181012_123432.jpg\n",
      "三件目クローゼット_5_1, 20181012_123501.jpg, 20181012_123515.jpg\n",
      "三件目クローゼット_6_1, 20181012_123559.jpg, 20181012_123606.jpg\n",
      "三件目クローゼット_7_1, 20181012_124104.jpg, 20181012_124113.jpg\n",
      "三件目床_1_1, 20181012_124214.jpg, 20181012_124223.jpg\n",
      "三件目床_1_1, 20181012_124214.jpg, 20181012_124223.jpg\n",
      "三件目カーテン_8_1, 20181012_124252.jpg, 20181012_124302.jpg\n",
      "三件目洗濯機_1_1, 20181012_124333.jpg, 20181012_124339.jpg\n",
      "三件目洗濯機_2_1, 20181012_124356.jpg, 20181012_124401.jpg\n",
      "20181012_124633, 20181012_124633.jpg, 20181012_124734.jpg\n",
      "三件目床_2_1, 20181012_124818.jpg, 20181012_124841.jpg\n",
      "三件目床_2_1, 20181012_124818.jpg, 20181012_124841.jpg\n",
      "三件目床_2_1, 20181012_124818.jpg, 20181012_124841.jpg\n",
      "三件目床_3_1, 20181012_124919.jpg, 20181012_124936.jpg\n",
      "三件目床_3_1, 20181012_124919.jpg, 20181012_124936.jpg\n",
      "三件目冷蔵庫_1_1, 20181012_125117.jpg, 20181012_125125.jpg\n",
      "三件目冷蔵庫_1_1, 20181012_125117.jpg, 20181012_125125.jpg\n",
      "三件目冷蔵庫_2_1, 20181012_125144.jpg, 20181012_125151.jpg\n",
      "三件目冷蔵庫_2_1, 20181012_125144.jpg, 20181012_125151.jpg\n",
      "三件目冷蔵庫_3_1, 20181012_125208.jpg, 20181012_125218.jpg\n",
      "三件目冷蔵庫_3_1, 20181012_125208.jpg, 20181012_125218.jpg\n",
      "三件目冷蔵庫_4_1, 20181012_125234.jpg, 20181012_125244.jpg\n",
      "三件目冷蔵庫_5_1, 20181012_125421.jpg, 20181012_125428.jpg\n",
      "三件目ドア_1_1, 20181012_125511.jpg, 20181012_125524.jpg\n",
      "三件目ドア_2_1, 20181012_125537.jpg, 20181012_125542.jpg\n",
      "三件目ドア_3_1, 20181012_125614.jpg, 20181012_125621.jpg\n",
      "三件目ドア_4_1, 20181012_125643.jpg, 20181012_125650.jpg\n",
      "三件目ドア_5_1, 20181012_125712.jpg, 20181012_125727.jpg\n"
     ]
    }
   ],
   "source": [
    "android_json_path = Path(\"../image/android_test_json\")\n",
    "ios_json_path = Path(\"../image/ios_test_json/\")\n",
    "json_dict = {}\n",
    "\n",
    "ios_pair_dict_swap = {v: k for k, v in ios_pair_dict.items()}\n",
    "android_pair_dict_swap = {v: k for k, v in android_pair_dict.items()}\n",
    "\n",
    "for j in sorted(android_json_path.glob(\"*_mwe*.json\")):\n",
    "# for j in sorted(ios_json_path.glob(\"*_mwe*.json\")):\n",
    "    # print(j.name)\n",
    "    bname1 = j.name[:15]\n",
    "    bname2 = j.name[16:31]\n",
    "    blist = j.name.split(\"_\")[-1].replace(\".json\", \"\")\n",
    "    char_num = len(blist)\n",
    "    rot1 = blist[:char_num // 2]\n",
    "    rot2 = blist[char_num // 2:]\n",
    "    if bname1 in android_pair_dict_swap.keys():\n",
    "        print(\"{}, {}.jpg, {}.jpg\".format(android_pair_dict_swap[bname1], bname1, bname2))\n",
    "    # if bname1 in ios_pair_dict_swap.keys():\n",
    "    #     print(\"{}, {}.jpg, {}.jpg\".format(ios_pair_dict_swap[bname1], bname1, bname2))\n",
    "        # print(\"{}, {}, {}_{}.json, {}_{}.json, {}_{}_pts_list.json, {}_{}_pts_list.json\".format(\n",
    "        #     pair_dict_swap[bname1], j.name, bname1, rot1, bname2, rot2, bname1, rot1, bname2, rot2))"
   ]
  }
 ],
 "metadata": {
  "kernelspec": {
   "display_name": "Python 3",
   "name": "python3"
  },
  "name": "test_image_match.ipynb"
 },
 "nbformat": 4,
 "nbformat_minor": 2
}
