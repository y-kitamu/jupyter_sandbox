{
 "cells": [
  {
   "cell_type": "code",
   "execution_count": 4,
   "metadata": {
    "autoscroll": false,
    "collapsed": false,
    "ein.hycell": false,
    "ein.tags": "worksheet-0",
    "slideshow": {
     "slide_type": "-"
    }
   },
   "outputs": [
    {
     "name": "stdout",
     "output_type": "stream",
     "text": [
      "Matrix([[-sin(alpha)*sin(beta)*sin(gamma) + cos(beta)*cos(gamma), -sin(gamma)*cos(alpha), sin(alpha)*sin(gamma)*cos(beta) + sin(beta)*cos(gamma)], [sin(alpha)*sin(beta)*cos(gamma) + sin(gamma)*cos(beta), cos(alpha)*cos(gamma), -sin(alpha)*cos(beta)*cos(gamma) + sin(beta)*sin(gamma)], [-sin(beta)*cos(alpha), sin(alpha), cos(alpha)*cos(beta)]])\n"
     ]
    },
    {
     "data": {
      "text/plain": [
       "'\\n[[-sin(alpha)*sin(beta)*sin(gamma) + cos(beta)*cos(gamma), -sin(gamma)*cos(alpha), sin(alpha)*sin(gamma)*cos(beta) + sin(beta)*cos(gamma)],\\n [sin(alpha)*sin(beta)*cos(gamma) + sin(gamma)*cos(beta), cos(alpha)*cos(gamma), -sin(alpha)*cos(beta)*cos(gamma) + sin(beta)*sin(gamma)],\\n [-sin(beta)*cos(alpha), sin(alpha), cos(alpha)*cos(beta)]]\\n'"
      ]
     },
     "execution_count": 4,
     "metadata": {},
     "output_type": "execute_result"
    }
   ],
   "source": [
    "from sympy import *\n",
    "\n",
    "# 3d 回転行列の表式 (euler 角での表式)\n",
    "\n",
    "alpha, beta, gamma = symbols(\"alpha beta gamma\")\n",
    "\n",
    "Rx = Matrix([[1,          0,           0],\n",
    "             [0, cos(alpha), -sin(alpha)],\n",
    "             [0, sin(alpha),  cos(alpha)]])\n",
    "\n",
    "Ry = Matrix([[ cos(beta),          0, sin(beta)],\n",
    "             [         0,          1,         0],\n",
    "             [-sin(beta),          0, cos(beta)]])\n",
    "\n",
    "Rz = Matrix([[cos(gamma), -sin(gamma), 0],\n",
    "             [sin(gamma),  cos(gamma), 0],\n",
    "             [         0,           0, 1]])\n",
    "\n",
    "R = Rz * Rx * Ry\n",
    "\n",
    "print(R)\n",
    "\n",
    "\"\"\"\n",
    "[[-sin(alpha)*sin(beta)*sin(gamma) + cos(beta)*cos(gamma), -sin(gamma)*cos(alpha), sin(alpha)*sin(gamma)*cos(beta) + sin(beta)*cos(gamma)],\n",
    " [sin(alpha)*sin(beta)*cos(gamma) + sin(gamma)*cos(beta), cos(alpha)*cos(gamma), -sin(alpha)*cos(beta)*cos(gamma) + sin(beta)*sin(gamma)],\n",
    " [-sin(beta)*cos(alpha), sin(alpha), cos(alpha)*cos(beta)]]\n",
    "\"\"\"\n"
   ]
  }
 ],
 "metadata": {
  "kernelspec": {
   "display_name": "Python 3",
   "name": "python3"
  },
  "name": "test_sympy.ipynb"
 },
 "nbformat": 4,
 "nbformat_minor": 2
}
