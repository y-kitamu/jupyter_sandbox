{
 "cells": [
  {
   "cell_type": "code",
   "execution_count": 1,
   "metadata": {
    "autoscroll": false,
    "collapsed": false,
    "ein.hycell": false,
    "ein.tags": "worksheet-0",
    "slideshow": {
     "slide_type": "-"
    }
   },
   "outputs": [],
   "source": [
    "x = int(input(\"x = \"))\n",
    "y = int(input(\"y = \"))\n",
    "d = int(input(\"distance = \"))\n",
    "print(x, y, d)"
   ]
  },
  {
   "cell_type": "code",
   "execution_count": 15,
   "metadata": {
    "autoscroll": false,
    "collapsed": false,
    "ein.hycell": false,
    "ein.tags": "worksheet-0",
    "slideshow": {
     "slide_type": "-"
    }
   },
   "outputs": [
    {
     "name": "stdout",
     "output_type": "stream",
     "text": [
      "5\n"
     ]
    }
   ],
   "source": [
    "x = int(input(\"x = \"))\n",
    "y = int(input(\"y = \"))\n",
    "d = int(input(\"distance = \"))\n",
    "\n",
    "dist_eval = lambda px, py: (px - d) * (px - d) + (py - d) * (py - d)\n",
    "border = d * d\n",
    "\n",
    "cnt = 0\n",
    "for yy in range(y - d, y + d + 1, 1):\n",
    "    for xx in range(x - d, x + d + 1, 1):\n",
    "        if dist_eval(xx, yy) <= border:\n",
    "            cnt += 1\n",
    "\n",
    "print(cnt)\n",
    "                "
   ]
  },
  {
   "cell_type": "code",
   "execution_count": 20,
   "metadata": {
    "autoscroll": false,
    "collapsed": false,
    "ein.hycell": false,
    "ein.tags": "worksheet-0",
    "slideshow": {
     "slide_type": "-"
    }
   },
   "outputs": [
    {
     "data": {
      "image/png": "[encoded data removed]",
      "text/plain": [
       "<Figure size 360x360 with 1 Axes>"
      ]
     },
     "metadata": {},
     "output_type": "display_data"
    }
   ],
   "source": [
    "import numpy as np\n",
    "import matplotlib.pyplot as plt\n",
    "import matplotlib.patches as pat\n",
    "\n",
    "x_range = np.arange(x - d - 1, x + d + 2)\n",
    "y_range = np.arange(y - d - 1, y + d + 2)\n",
    "\n",
    "xgrid, ygrid = np.meshgrid(x_range, y_range)\n",
    "\n",
    "figure = plt.figure(figsize=(5, 5))\n",
    "ax = figure.add_subplot(111)\n",
    "\n",
    "ax.set_xlim(x - d - 1, x + d + 1)\n",
    "ax.set_ylim(y - d - 1, y + d + 1)\n",
    "\n",
    "circle = pat.Circle(xy=(x, y), radius=d, ec='r', fc=)\n",
    "ax.add_patch(circle)\n",
    "ax.scatter(xgrid, ygrid)\n",
    "\n",
    "plt.show()\n"
   ]
  }
 ],
 "metadata": {
  "kernelspec": {
   "display_name": "Python 3",
   "name": "python3"
  },
  "name": "gym_292.ipynb"
 },
 "nbformat": 4,
 "nbformat_minor": 2
}
