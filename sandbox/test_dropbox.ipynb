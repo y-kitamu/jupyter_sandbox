{
 "cells": [
  {
   "cell_type": "code",
   "execution_count": 58,
   "metadata": {
    "autoscroll": false,
    "collapsed": false,
    "ein.hycell": false,
    "ein.tags": "worksheet-0",
    "slideshow": {
     "slide_type": "-"
    }
   },
   "outputs": [],
   "source": [
    "import dropbox_csv_converter as dc\n",
    "import importlib\n",
    "import csv\n",
    "import math\n",
    "importlib.reload(dc)\n",
    "\n",
    "df = dc.convert_csv(\"../csv/2019-06-07_dropbox_member.csv\")\n",
    "\n"
   ]
  }
 ],
 "metadata": {
  "kernelspec": {
   "display_name": "Python 3",
   "name": "python3"
  },
  "name": "test_dropbox.ipynb"
 },
 "nbformat": 4,
 "nbformat_minor": 2
}
