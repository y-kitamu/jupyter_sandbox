{
 "cells": [
  {
   "cell_type": "code",
   "execution_count": 26,
   "metadata": {
    "autoscroll": false,
    "collapsed": false,
    "ein.hycell": false,
    "ein.tags": "worksheet-0",
    "slideshow": {
     "slide_type": "-"
    }
   },
   "outputs": [
    {
     "name": "stdout",
     "output_type": "stream",
     "text": [
      "Requirement already satisfied: opencv-python in /opt/conda/lib/python3.6/site-packages (4.0.0.21)\r\n",
      "Requirement already satisfied: numpy>=1.11.3 in /opt/conda/lib/python3.6/site-packages (from opencv-python) (1.13.3)\r\n"
     ]
    },
    {
     "name": "stdout",
     "output_type": "stream",
     "text": [
      "Requirement already satisfied: seaborn in /opt/conda/lib/python3.6/site-packages (0.9.0)\r\n",
      "Requirement already satisfied: numpy>=1.9.3 in /opt/conda/lib/python3.6/site-packages (from seaborn) (1.13.3)\r\n",
      "Requirement already satisfied: scipy>=0.14.0 in /opt/conda/lib/python3.6/site-packages (from seaborn) (1.1.0)\r\n",
      "Requirement already satisfied: pandas>=0.15.2 in /opt/conda/lib/python3.6/site-packages (from seaborn) (0.23.4)\r\n",
      "Requirement already satisfied: matplotlib>=1.4.3 in /opt/conda/lib/python3.6/site-packages (from seaborn) (2.2.3)\r\n",
      "Requirement already satisfied: pytz>=2011k in /opt/conda/lib/python3.6/site-packages (from pandas>=0.15.2->seaborn) (2018.9)\r\n",
      "Requirement already satisfied: python-dateutil>=2.5.0 in /opt/conda/lib/python3.6/site-packages (from pandas>=0.15.2->seaborn) (2.7.5)\r\n",
      "Requirement already satisfied: cycler>=0.10 in /opt/conda/lib/python3.6/site-packages (from matplotlib>=1.4.3->seaborn) (0.10.0)\r\n",
      "Requirement already satisfied: pyparsing!=2.0.4,!=2.1.2,!=2.1.6,>=2.0.1 in /opt/conda/lib/python3.6/site-packages (from matplotlib>=1.4.3->seaborn) (2.3.0)\r\n",
      "Requirement already satisfied: six>=1.10 in /opt/conda/lib/python3.6/site-packages (from matplotlib>=1.4.3->seaborn) (1.12.0)\r\n",
      "Requirement already satisfied: kiwisolver>=1.0.1 in /opt/conda/lib/python3.6/site-packages (from matplotlib>=1.4.3->seaborn) (1.0.1)\r\n",
      "Requirement already satisfied: setuptools in /opt/conda/lib/python3.6/site-packages (from kiwisolver>=1.0.1->matplotlib>=1.4.3->seaborn) (40.6.3)\r\n"
     ]
    }
   ],
   "source": [
    "!pip install opencv-python\n",
    "!pip install seaborn"
   ]
  },
  {
   "cell_type": "code",
   "execution_count": null,
   "metadata": {
    "autoscroll": false,
    "collapsed": false,
    "ein.hycell": false,
    "ein.tags": "worksheet-0",
    "slideshow": {
     "slide_type": "-"
    }
   },
   "outputs": [],
   "source": [
    "%matplotlib inline\n",
    "import numpy as np\n",
    "import matplotlib.pyplot as plt\n",
    "# import matplotlib.animation as animation\n",
    "import seaborn as sns\n",
    "from mpl_toolkits.mplot3d import Axes3D\n",
    "import cv2\n",
    "import os\n",
    "\n",
    "# filename1 = \"./engine_image/piecewise_smooth_clean.png\"\n",
    "# filename2 = \"./engine_image/piecewise_smooth_noisy.png\"\n",
    "# filename3 = \"./engine_image/piecewise_smooth_denoise.png\"\n",
    "filename1 = \"./engine_image/piecewise_affine_clean.png\"\n",
    "filename2 = \"./engine_image/piecewise_affine_noisy.png\"\n",
    "filename3 = \"./engine_image/piecewise_affine_denoise.png\"\n",
    "img1 = cv2.imread(filename1, cv2.IMREAD_GRAYSCALE)\n",
    "img2 = cv2.imread(filename2, cv2.IMREAD_GRAYSCALE)\n",
    "img3 = cv2.imread(filename3, cv2.IMREAD_GRAYSCALE)\n",
    "\n",
    "\n",
    "def showImage(img, savename):\n",
    "    x, y = np.meshgrid(np.arange(img.shape[0]), np.arange(img.shape[1]))\n",
    "    \n",
    "    # fig = plt.figure(figsize=(10,5))\n",
    "    fig = sns.mpl.pyplot.figure(figsize=(10, 5))\n",
    "    ax = fig.add_subplot(121)\n",
    "    ax.imshow(img, cmap=\"gray\")\n",
    "\n",
    "    elevation = 30\n",
    "    azimuth = 60\n",
    "\n",
    "    ax = fig.add_subplot(122, projection='3d')\n",
    "    ax.view_init(elevation, azimuth)\n",
    "    # ax.plot_surface(x, y, img, cmap=\"bwr\", linewidth=0)\n",
    "    ax.plot_wireframe(x, y, img, cstride=10, rstride=10)\n",
    "\n",
    "    plt.savefig(savename)\n",
    "    # ims = []\n",
    "    # for azimuth in range(0, 360, 30):\n",
    "    #     im = ax.plot_surface(x, y, img, cmap=\"bwr\", linewidth=0)\n",
    "    #     ims.append(im)\n",
    "    # ani = animation.ArtistAnimation(fig, ims, interval=1000)\n",
    "    # ani.save(\"anim.gif\", write=\"imagemagick\", fps=4)\n",
    "    # fig.show()\n",
    "\n",
    "showImage(img1, \"{}_wire.png\".format(os.path.splitext(filename1)[0]))\n",
    "showImage(img2, \"{}_wire.png\".format(os.path.splitext(filename2)[0]))\n",
    "showImage(img3, \"{}_wire.png\".format(os.path.splitext(filename3)[0]))\n",
    "\n",
    "# print(np.mean(np.abs(img1.astype(np.int) - img3.astype(np.int))))"
   ]
  },
  {
   "cell_type": "code",
   "execution_count": 8,
   "metadata": {
    "autoscroll": false,
    "collapsed": false,
    "ein.hycell": false,
    "ein.tags": "worksheet-0",
    "slideshow": {
     "slide_type": "-"
    }
   },
   "outputs": [
    {
     "name": "stdout",
     "output_type": "stream",
     "text": [
      "[[ 0.416726  0.41603   0.415657 ...,  0.414764  0.414759  0.414762]]\n"
     ]
    },
    {
     "data": {
      "image/png": "[encoded data removed]",
      "text/plain": [
       "<Figure size 432x288 with 1 Axes>"
      ]
     },
     "metadata": {},
     "output_type": "display_data"
    }
   ],
   "source": [
    "%matplotlib inline\n",
    "import pandas as pd\n",
    "import numpy as np\n",
    "import csv\n",
    "import matplotlib.pyplot as plt\n",
    "import seaborn as sns\n",
    "import os\n",
    "\n",
    "csv_fname1 = \"./engine_csv/piecewise_affine_error.dat\"\n",
    "csv_fname2 = \"./engine_csv/piecewise_affine_obj_val.dat\"\n",
    "# csv_fname1 = \"./engine_csv/piecewise_smooth_error.dat\"\n",
    "# csv_fname2 = \"./engine_csv/piecewise_smooth_obj_val.dat\"\n",
    "\n",
    "def show_error(fname):\n",
    "    df = pd.read_csv(fname, header=None)\n",
    "    ar = df.values[:, :-1].astype(np.float64)\n",
    "\n",
    "    x = np.arange(1, ar.size + 1)\n",
    "\n",
    "    # fig = plt.figure()\n",
    "    fig = sns.mpl.pyplot.figure()\n",
    "    ax = fig.add_subplot(121)\n",
    "\n",
    "    ax.set_xlabel('iteration')\n",
    "    # ax.spines['bottom'].set_color('red')\n",
    "    # ax.spines['top'].set_color('red')\n",
    "    # ax.xaxis.label.set_color('red')\n",
    "    # ax.tick_params(axis='x', color='white')\n",
    "    # ax.tick_params(axis='y', color='red')\n",
    "\n",
    "    print(ar)\n",
    "\n",
    "    ax.set_xscale('log')\n",
    "    ax.set_yscale('log')\n",
    "    ax.plot(x, ar[0, :])\n",
    "\n",
    "    savename = \"./image/{}.png\".format(os.path.splitext(os.path.basename(fname))[0])\n",
    "    plt.savefig(savename)\n",
    "    \n",
    "\n",
    "show_error(csv_fname1)\n",
    "# show_error(csv_fname2)"
   ]
  }
 ],
 "metadata": {
  "kernelspec": {
   "display_name": "Python 3",
   "name": "python3"
  },
  "name": "test_opencv_matplotlib.ipynb"
 },
 "nbformat": 4,
 "nbformat_minor": 2
}
