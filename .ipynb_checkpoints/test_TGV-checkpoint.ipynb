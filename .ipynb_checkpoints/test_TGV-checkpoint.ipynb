{
 "cells": [
  {
   "cell_type": "code",
   "execution_count": 1,
   "metadata": {
    "autoscroll": false,
    "collapsed": false,
    "ein.hycell": false,
    "ein.tags": "worksheet-0",
    "slideshow": {
     "slide_type": "-"
    }
   },
   "outputs": [],
   "source": [
    "import numpy as np\n",
    "\n",
    "def createImage(rows, cols, edge):\n",
    "    clean = np.zeros((rows, cols))\n",
    "    \n",
    "    for i in range(cols):\n",
    "        clean[:, i] = i / (cols - 1)\n",
    "\n",
    "    for i in range(edge, cols - edge):\n",
    "        clean[edge:rows - edge, i] = 1 - ((i - edge) / (cols - edge * 2 - 1))\n",
    "\n",
    "    noisy = clean + np.random.normal(0, 0.05, size=(rows, cols))\n",
    "    return clean, noisy\n",
    "\n",
    "size = 32\n",
    "edge = size // 4\n",
    "\n",
    "clean, noisy = createImage(size, size, edge)\n"
   ]
  },
  {
   "cell_type": "code",
   "execution_count": 16,
   "metadata": {
    "autoscroll": false,
    "collapsed": false,
    "ein.hycell": false,
    "ein.tags": "worksheet-0",
    "slideshow": {
     "slide_type": "-"
    }
   },
   "outputs": [
    {
     "name": "stderr",
     "output_type": "stream",
     "text": [
      "/opt/conda/lib/python3.7/site-packages/ipykernel_launcher.py:124: RuntimeWarning: invalid value encountered in true_divide\n"
     ]
    }
   ],
   "source": [
    "import numpy as np\n",
    "import math\n",
    "\n",
    "class TGV:\n",
    "    iter_num = 150\n",
    "\n",
    "    tau = 1 / 64\n",
    "    alpha0 = 0.1\n",
    "    alpha1 = 0.05\n",
    "    sigma = 0.125\n",
    "    errors = []\n",
    "\n",
    "    def __init__(self, input, clean):\n",
    "        self.input = input\n",
    "        self.clean = clean\n",
    "        self.rows = input.shape[0]\n",
    "        self.cols = input.shape[1]\n",
    "\n",
    "        self.v0 = np.zeros((self.rows, self.cols, 3))\n",
    "        self.v1 = np.zeros((self.rows, self.cols, 3))\n",
    "        self.v_bar = np.zeros((self.rows, self.cols, 3))\n",
    "        self.v_hat = np.zeros((self.rows, self.cols, 3))\n",
    "\n",
    "        self.eta0 = np.zeros((self.rows, self.cols, 2))\n",
    "        self.eta1 = np.zeros((self.rows, self.cols, 2))\n",
    "        self.eta_bar = np.zeros((self.rows, self.cols, 2))\n",
    "\n",
    "        \n",
    "    def square_sym_grad(self, src):\n",
    "        src_zero = np.zeros((self.rows + 2, self.cols + 2))\n",
    "        src_zero[1:-1, 1:-1] = src\n",
    "\n",
    "        src_edge = np.zeros((src.shape[0] + 2, src.shape[1] + 2))\n",
    "        src_edge[1:-1, 1:-1] = src\n",
    "        src_edge[1:-1, 0] = src[:, 0]\n",
    "        src_edge[1:-1, -1] = src[:, -1]\n",
    "        src_edge[0, 1:-1] = src[0, :]\n",
    "        src_edge[-1, 1:-1] = src[-1, :]\n",
    "\n",
    "        dst = np.zeros((self.rows, self.cols, 3))\n",
    "\n",
    "        for y in range(0, self.rows):\n",
    "            for x in range(0, self.cols):\n",
    "                dst[y, x, 0] = np.sum(np.array(([1, -2, 1])) * src_edge[y + 1, x:x + 3])\n",
    "                dst[y, x, 1] = np.sum(np.array(([1, -2, 1])) * src_edge[y:y+3, x + 1])\n",
    "                dst[y, x, 2] = (np.sum(np.array(([[0, 1, -1], [1, -2, 1], [-1, 1, 0]])) * src_zero[y:y + 3, x:x + 3])) * 0.5\n",
    "        return dst\n",
    "\n",
    "\n",
    "    def square_div(self, src):\n",
    "        src0 = np.zeros((self.rows + 2, self.cols + 2))\n",
    "        src1 = np.zeros((self.rows + 2, self.cols + 2))\n",
    "        src2 = np.zeros((self.rows + 2, self.cols + 2))\n",
    "\n",
    "        src0[1:-1, 1:-1] = src[:, :, 0]\n",
    "        src1[1:-1, 1:-1] = src[:, :, 1]\n",
    "        src2[1:-1, 1:-1] = src[:, :, 2]\n",
    "\n",
    "        src0[1:-1, 0] = src[:, 0, 0]\n",
    "        src0[1:-1, -1] = src[:, -1, 0]\n",
    "        src0[0, 1:-1] = src[0, :, 0]\n",
    "        src0[-1, 1:-1] = src[-1, :, 0]\n",
    "\n",
    "        src1[1:-1, 0] = src[:, 0, 1]\n",
    "        src1[1:-1, -1] = src[:, -1, 1]\n",
    "        src1[0, 1:-1] = src[0, :, 1]\n",
    "        src1[-1, 1:-1] = src[-1, :, 1]\n",
    "\n",
    "        dst = np.zeros((self.rows, self.cols))\n",
    "\n",
    "        for y in range(0, self.rows):\n",
    "            for x in range(0, self.cols):\n",
    "                dst[y, x] = np.sum(np.array(([1, -2, 1])) * src0[y + 1, x:x + 3]) \\\n",
    "                    + np.sum(np.array(([1, -2, 1])) * src1[y:y+3, x + 1]) \\\n",
    "                    + np.sum(np.array(([[0, 1, -1], [1, -2, 1], [-1, 1, 0]])) * src2[y:y + 3, x:x + 3])\n",
    "        return dst\n",
    "\n",
    "    \n",
    "    def sym_grad(self, src):\n",
    "        dst = np.zeros((self.rows, self.cols, 3))\n",
    "\n",
    "        dst[:, 1:, 0] = src[:, 1:, 0] - src[:, :-1, 0]\n",
    "        dst[:, 0, 0] = src[:, 0, 0]\n",
    "        dst[:, -1, 0] = -src[:, -2, 0]\n",
    "\n",
    "        dst[1:, :, 1] = src[1:, :, 1] - src[:-1, :, 1]\n",
    "        dst[0, :, 1] = src[0, :, 1]\n",
    "        dst[-1, :, 1] = -src[-2, :, 1]\n",
    "\n",
    "        tmp = np.zeros((self.rows, self.cols, 2))\n",
    "        tmp[:, 1:, 0] = src[:, 1:, 1] - src[:, :-1, 1]\n",
    "        tmp[:, 0, 0] = src[:, 0, 1]\n",
    "        tmp[:, -1, 0] = -src[:, -2, 1]\n",
    "\n",
    "        tmp[1:, :, 1] = src[1:, :, 0] - src[:-1, :, 0]\n",
    "        tmp[0, :, 1] = src[0, :, 0]\n",
    "        tmp[-1, :, 1] = -src[-2, :, 0]\n",
    "        dst[:, :, 2] = (tmp[:, :, 0] + tmp[:, :, 1]) * 0.5\n",
    "\n",
    "        return dst\n",
    "\n",
    "    \n",
    "    def divergence(self, src):\n",
    "        dst = np.zeros((self.rows, self.cols, 2))\n",
    "\n",
    "        tmp = np.zeros((self.rows, self.cols, 4))\n",
    "        tmp[:, :-1, 0] = src[:, 1:, 0] - src[:, :-1, 0]\n",
    "        tmp[:-1, :, 1] = src[1:, :, 1] - src[:-1, :, 1]\n",
    "        tmp[:-1, :, 2] = src[1:, :, 2] - src[:-1, :, 2]\n",
    "        tmp[:, :-1, 3] = src[:, 1:, 2] - src[:, :-1, 2]\n",
    "\n",
    "        dst[:, :, 0] = tmp[:, :, 0] + tmp[:, :, 2]\n",
    "        dst[:, :, 1] = tmp[:, :, 1] + tmp[:, :, 3]\n",
    "\n",
    "        return dst\n",
    "\n",
    "    \n",
    "    def update_nesterov_param(self, t):\n",
    "        return (1 + math.sqrt(1 + 4 * t * t)) / 2\n",
    "\n",
    "    \n",
    "    def shrink(self, image, lamb):\n",
    "        abs_img = np.abs(image)\n",
    "        shrink_img = np.where((abs_img - lamb) > 0,  (abs_img - lamb) * image / abs_img, 0)\n",
    "        return shrink_img\n",
    "\n",
    "\n",
    "    def prox_grad(self):\n",
    "        t0 = 1\n",
    "        t1 = self.update_nesterov_param(t0)\n",
    "        t2 = self.update_nesterov_param(t1)\n",
    "\n",
    "        for i in range(self.iter_num):\n",
    "            tmp = self.v_hat + self.sym_grad(self.eta_bar)\n",
    "            q = self.shrink(tmp, self.alpha0)\n",
    "\n",
    "            self.eta1 = self.shrink(self.eta_bar + self.sigma * self.divergence(tmp - q), self.sigma * self.alpha1)\n",
    "            self.eta_bar = self.eta1 + t0 / t2 * (self.eta1 - self.eta0)\n",
    "\n",
    "            \n",
    "\n",
    "            self.eta0 = self.eta1\n",
    "            t0 = t1\n",
    "            t1 = t2\n",
    "            t2 = self.update_nesterov_param(t2)\n",
    "\n",
    "        # print(np.sqrt(np.sum(np.square(self.v_hat - q + self.sym_grad(self.eta1)))))\n",
    "        self.v1 =  self.v_hat - q + self.sym_grad(self.eta1)\n",
    "\n",
    "\n",
    "    def denoise(self):\n",
    "        t0 = 1\n",
    "        t1 = self.update_nesterov_param(t0)\n",
    "        t2 = self.update_nesterov_param(t1)\n",
    "\n",
    "        for i in range(self.iter_num): # \n",
    "        # for i in range(1):\n",
    "            # print(self.input)\n",
    "            self.v_hat = self.v_bar + self.tau * self.square_sym_grad(self.input - self.square_div(self.v_bar))\n",
    "\n",
    "            self.prox_grad()\n",
    "\n",
    "            self.v_bar = self.v1 + t0 / t2 * (self.v1 - self.v0)\n",
    "            \n",
    "            t0 = t1\n",
    "            t1 = t2\n",
    "            t2 = self.update_nesterov_param(t2)\n",
    "            self.v0 = self.v1\n",
    "\n",
    "            error = np.mean(np.abs((self.input - self.square_div(self.v1)) - self.clean))\n",
    "            #print(error)\n",
    "            self.errors += [error]\n",
    "            #print(np.sum(np.abs(square_div(v1))) / (rows * cols))\n",
    "\n",
    "        # calc_u\n",
    "        denoise = self.input - self.square_div(self.v1)\n",
    "\n",
    "        return denoise\n",
    "\n",
    "inp = np.array((\n",
    "    [ [  0.134406,],  [  0.324319,],  [  0.463316,],  [  0.50489,],  [  0.590114,],  [  0.700973,],  [  0.749472,],  [  1,], ],\n",
    "    [ [  0.132836,],  [  0.324319,],  [  0.269897,],  [  0.550089,],  [  0.599105,],  [  0.740044,],  [  0.858524,],  [  0.923825,], ],\n",
    "    [ [  0.280201,],  [  0.279064,],  [  0.402278,],  [  0.559652,],  [  0.501103,],  [  0.752126,],  [  0.816824,],  [  0.862465,], ],\n",
    "    [ [  0.256639,],  [  0.361794,],  [  0.414381,],  [  0.734061,],  [  0.626987,],  [  0.399523,],  [  0.737526,],  [  0.871982,], ],\n",
    "    [ [  0.0423307,],  [  0.312881,],  [  0.34472,],  [  0.811435,],  [  0.588207,],  [  0.389988,],  [  0.87638,],  [  0.915455,], ],\n",
    "    [ [  0.179548,],  [  0.287256,],  [  0.312178,],  [  0.711284,],  [  0.576404,],  [  0.407887,],  [  0.791423,],  [  0.914356,], ],\n",
    "    [ [  0.160355,],  [  0.289988,],  [  0.51374,],  [  0.56378,],  [  0.666209,],  [  0.733925,],  [  0.774516,],  [  0.922785,], ],\n",
    "    [ [  0.197286,],  [  0.225062,],  [  0.432054,],  [  0.508955,],  [  0.503164,],  [  0.693805,],  [  0.771629,],  [  0.864843,], ],\n",
    "))\n",
    "\n",
    "inp = inp[:, :, 0]\n",
    "\n",
    "tgv = TGV(noisy, clean)\n",
    "denoise = tgv.denoise()\n",
    "# print(denoise)\n",
    "\n"
   ]
  },
  {
   "cell_type": "code",
   "execution_count": 15,
   "metadata": {
    "autoscroll": false,
    "collapsed": false,
    "ein.hycell": false,
    "ein.tags": "worksheet-0",
    "slideshow": {
     "slide_type": "-"
    }
   },
   "outputs": [
    {
     "data": {
      "text/plain": [
       "[<matplotlib.lines.Line2D at 0x7fc6c2a8ab38>]"
      ]
     },
     "execution_count": 15,
     "metadata": {},
     "output_type": "execute_result"
    },
    {
     "data": {
      "image/png": "[encoded data removed]",
      "text/plain": [
       "<Figure size 432x288 with 1 Axes>"
      ]
     },
     "metadata": {},
     "output_type": "display_data"
    }
   ],
   "source": [
    "%matplotlib inline\n",
    "import seaborn as sns\n",
    "\n",
    "fig = sns.mpl.pyplot.figure()\n",
    "\n",
    "ax = fig.add_subplot(111)\n",
    "\n",
    "ax.set_xscale('log')\n",
    "ax.set_yscale('log')\n",
    "\n",
    "ax.plot(tgv.errors)\n",
    "\n",
    "#print(tgv.errors)\n"
   ]
  },
  {
   "cell_type": "code",
   "execution_count": null,
   "metadata": {
    "autoscroll": false,
    "collapsed": false,
    "ein.hycell": false,
    "ein.tags": "worksheet-0",
    "slideshow": {
     "slide_type": "-"
    }
   },
   "outputs": [],
   "source": [
    "answer = np.array((\n",
    " [ [  0.150462,],  [  0.312217,],  [  0.424394,],  [  0.521212,],  [  0.595048,],  [  0.69671,],  [  0.815794,],  [  0.921057,], ],\n",
    " [ [  0.173424,],  [  0.268408,],  [  0.363754,],  [  0.504265,],  [  0.604706,],  [  0.739049,],  [  0.814754,],  [  0.940571,], ],\n",
    " [ [  0.25173,],  [  0.307781,],  [  0.391964,],  [  0.551941,],  [  0.571873,],  [  0.673045,],  [  0.812443,],  [  0.881388,], ],\n",
    " [ [  0.233246,],  [  0.332698,],  [  0.452298,],  [  0.678766,],  [  0.573308,],  [  0.512674,],  [  0.749627,],  [  0.863739,], ],\n",
    " [ [  0.123435,],  [  0.266485,],  [  0.420894,],  [  0.70839,],  [  0.594375,],  [  0.466657,],  [  0.775559,],  [  0.920428,], ],\n",
    " [ [  0.150775,],  [  0.269566,],  [  0.401005,],  [  0.638939,],  [  0.600958,],  [  0.513757,],  [  0.756748,],  [  0.925662,], ],\n",
    " [ [  0.179998,],  [  0.288844,],  [  0.45099,],  [  0.583735,],  [  0.632841,],  [  0.677084,],  [  0.789116,],  [  0.902903,], ],\n",
    " [ [  0.177035,],  [  0.256144,],  [  0.427608,],  [  0.501736,],  [  0.549822,],  [  0.687022,],  [  0.782046,],  [  0.866002,], ],\n",
    "))\n",
    "\n",
    "answer = answer[:, :, 0]\n",
    "\n",
    "print(np.abs(answer - denoise) < 1e-3)\n"
   ]
  },
  {
   "cell_type": "code",
   "execution_count": 9,
   "metadata": {
    "autoscroll": false,
    "collapsed": false,
    "ein.hycell": false,
    "ein.tags": "worksheet-0",
    "slideshow": {
     "slide_type": "-"
    }
   },
   "outputs": [
    {
     "data": {
      "image/png": "[encoded data removed]",
      "text/plain": [
       "<Figure size 1440x1440 with 3 Axes>"
      ]
     },
     "metadata": {},
     "output_type": "display_data"
    }
   ],
   "source": [
    "%matplotlib inline\n",
    "import matplotlib.pyplot as plt\n",
    "import seaborn as sns\n",
    "\n",
    "fig = sns.mpl.pyplot.figure(figsize=(20, 20))\n",
    "\n",
    "ax = fig.add_subplot(131)\n",
    "ax.imshow(clean, cmap='gray')\n",
    "\n",
    "ax = fig.add_subplot(132)\n",
    "ax.imshow(noisy, cmap='gray')\n",
    "\n",
    "ax = fig.add_subplot(133)\n",
    "ax.imshow(denoise, cmap='gray')\n",
    "\n",
    "fig.savefig(\"test.png\")\n"
   ]
  }
 ],
 "metadata": {
  "kernelspec": {
   "display_name": "Python 3",
   "name": "python3"
  },
  "name": "test_TGV.ipynb"
 },
 "nbformat": 4,
 "nbformat_minor": 2
}
